{
 "cells": [
  {
   "cell_type": "markdown",
   "metadata": {
    "colab_type": "text",
    "id": "__1JBcfGnOHj"
   },
   "source": [
    "# HOT and LOT Region Sequence Generation for Worm"
   ]
  },
  {
   "cell_type": "code",
   "execution_count": 2,
   "metadata": {},
   "outputs": [],
   "source": [
    "import pandas as pd\n",
    "import numpy as np\n",
    "import random\n",
    "import matplotlib.pyplot as plt\n",
    "import scipy.interpolate as interpolate\n",
    "\n",
    "from Bio import SeqIO"
   ]
  },
  {
   "cell_type": "code",
   "execution_count": 38,
   "metadata": {},
   "outputs": [],
   "source": [
    "\n",
    "genome_path = '../genomes/Worm/'\n",
    "hot_regions_worm = ['../genomes/Worm/maphot_ce_selection_reg_cx_denP01_all.bed', '../genomes/Worm/maphot_ce_selection_reg_cx_denP05_any.bed']  \n",
    "output_hot_worm = [ '../hot_lot_seqs/worm/hot_region_01_all.fa', '../hot_lot_seqs/worm/hot_region_05_any.fa']\n",
    "output_lot_worm = [ '../hot_lot_seqs/worm/lot_region_01_all.fa', '../hot_lot_seqs/worm/lot_region_05_any.fa']\n",
    "\n",
    "multiplier = 1"
   ]
  },
  {
   "cell_type": "code",
   "execution_count": 19,
   "metadata": {},
   "outputs": [],
   "source": [
    "\"\"\" \n",
    "chr_dict    :   bp seq of each chromosome from the given folder of a species.\n",
    "\"\"\"\n",
    "import os \n",
    "# converts the genome file to a dictionary with chromosome keys mapping to their corresponding base pair sequences\n",
    "chr_dict = {}\n",
    "for filenames in os.listdir(genome_path):\n",
    "    if filenames.endswith('.fa'):\n",
    "        with open(os.path.join(genome_path, filenames)) as myfile:\n",
    "            recordX = SeqIO.to_dict(SeqIO.parse(myfile, \"fasta\"))\n",
    "            #print(recordX)\n",
    "            k =list(recordX.keys())[0]\n",
    "            chr_dict[k] = recordX[k]\n",
    "chr_dict = dict(sorted(chr_dict.items()))\n"
   ]
  },
  {
   "cell_type": "code",
   "execution_count": 60,
   "metadata": {},
   "outputs": [],
   "source": [
    "#chr_dict"
   ]
  },
  {
   "cell_type": "markdown",
   "metadata": {},
   "source": [
    "# HOT regions index in each chromosome"
   ]
  },
  {
   "cell_type": "markdown",
   "metadata": {},
   "source": [
    "The following cell parses the .bed file and saves the relevant information into a list:\n",
    "- **line[0]** - chromosome number\n",
    "- **line[1]** - start position (inclusive)\n",
    "- **line[2]** - end position (exclusive)\n",
    "- **line[3]** - HOT region name"
   ]
  },
  {
   "cell_type": "code",
   "execution_count": 46,
   "metadata": {},
   "outputs": [],
   "source": [
    "\"\"\"  \n",
    " Input the file that contains HOT regions from each chromosome\n",
    "\"\"\"\n",
    "with open(hot_regions_worm[1]) as f: #### input file for hot regions\n",
    "    lines = f.readlines()\n",
    "    lines = [line.rstrip().split()[0:4] for line in lines]\n",
    "    for line in lines:\n",
    "        line[0] = 'chr'+line[0]\n",
    "    "
   ]
  },
  {
   "cell_type": "code",
   "execution_count": 47,
   "metadata": {},
   "outputs": [
    {
     "name": "stdout",
     "output_type": "stream",
     "text": [
      "20139\n"
     ]
    },
    {
     "data": {
      "text/plain": [
       "[['chrI', '16632', '17470', 'HOT-EX.1'],\n",
       " ['chrI', '26807', '27346', 'HOT-EX.2'],\n",
       " ['chrI', '39631', '40124', 'HOT-EX.3'],\n",
       " ['chrI', '69838', '70749', 'HOT-EX.4']]"
      ]
     },
     "execution_count": 47,
     "metadata": {},
     "output_type": "execute_result"
    }
   ],
   "source": [
    "print(len(lines))\n",
    "lines[0:4]"
   ]
  },
  {
   "cell_type": "code",
   "execution_count": 61,
   "metadata": {},
   "outputs": [
    {
     "data": {
      "image/png": "[encoded data removed]",
      "text/plain": [
       "<Figure size 640x480 with 1 Axes>"
      ]
     },
     "metadata": {},
     "output_type": "display_data"
    }
   ],
   "source": [
    "# calculates and plots the distribution of HOT region sequence lengths. \n",
    "\n",
    "sizes = []\n",
    "for entry in lines:\n",
    "    sizes.append(int(entry[2]) - int(entry[1]))\n",
    "arr = np.array(sizes)\n",
    "\n",
    "plt.hist(arr, bins=40)\n",
    "plt.title('Distribution of HOT Region Lengths')\n",
    "plt.xlabel('BP Length')\n",
    "plt.ylabel('Frequency')\n",
    "plt.show()"
   ]
  },
  {
   "cell_type": "markdown",
   "metadata": {},
   "source": [
    "# Inverse Transform Sampling for LOT regions"
   ]
  },
  {
   "cell_type": "markdown",
   "metadata": {},
   "source": [
    "The following cell defines two helper functions to help us perform inverse transform sampling. inv_trans() builds the inverse CDF using interpolation and generate_sample() generates a single sample from the inverse CDF produced by inv_trans. Methods are adapted from:\n",
    "\n",
    "    https://tmramalho.github.io/blog/2013/12/16/how-to-do-inverse-transformation-sampling-in-scipy-and-numpy/"
   ]
  },
  {
   "cell_type": "code",
   "execution_count": 55,
   "metadata": {},
   "outputs": [],
   "source": [
    "def inv_trans(data):\n",
    "    hist, bin_edges = np.histogram(data, bins=40, density=True)\n",
    "    values = np.zeros(bin_edges.shape)\n",
    "    values[1:] = np.cumsum(hist*np.diff(bin_edges))\n",
    "    icdf = interpolate.interp1d(values, bin_edges)\n",
    "    return icdf\n",
    "\n",
    "def generate_sample(icdf):\n",
    "    return round(icdf(np.random.rand(1))[0])"
   ]
  },
  {
   "cell_type": "markdown",
   "metadata": {},
   "source": [
    "The following cell first finds all the available LOT region index ranges (Logical inverse of HOT region index ranges) and then randomly generates LOT regions through inverse transform sampling on HOT region lengths. The results are stored in a list (negative_set_indices_resized)."
   ]
  },
  {
   "cell_type": "code",
   "execution_count": 56,
   "metadata": {},
   "outputs": [],
   "source": [
    "index = '0'\n",
    "curr_chromosome = list(chr_dict.keys())[0]\n",
    "negative_set_indices = []\n",
    "icdf = inv_trans(arr)\n",
    "\n",
    "# Looping over chromosomes to find LOT region index ranges\n",
    "for entry in lines:\n",
    "    if entry[0] != curr_chromosome:\n",
    "        negative_set_indices.append([curr_chromosome, index, len(chr_dict[curr_chromosome].seq)])\n",
    "        index = '0'\n",
    "        curr_chromosome = entry[0]\n",
    "    negative_set_indices.append([curr_chromosome, index, entry[1]])\n",
    "    index = entry[2]\n",
    "    \n",
    "negative_set_indices_resized = []\n",
    "\n",
    "# Iterating over possible ranges to get LOT regions\n",
    "for x in negative_set_indices:\n",
    "    curr_set = set()\n",
    "    # Generate a random length from HOT region distribution\n",
    "    l = generate_sample(icdf)\n",
    "    # Ensuring that the region is long enough to sample from\n",
    "    if int(x[2])-l < int(x[1]):\n",
    "        continue\n",
    "    num = min(multiplier,(int(x[2])-int(x[1]))//10)\n",
    "    for _ in range(num):\n",
    "        a = random.randint(int(x[1]), int(x[2])-l)\n",
    "        # Ensuring nonoverlapping samples\n",
    "        while any(a>=i and a<= i+l for i in curr_set):\n",
    "            a = random.randint(int(x[1]), int(x[2])-l)\n",
    "        curr_set.add(a)\n",
    "    lis = sorted(list(curr_set))\n",
    "    for y in lis:\n",
    "        negative_set_indices_resized.append([x[0], str(y), str(y+l)])"
   ]
  },
  {
   "cell_type": "code",
   "execution_count": 57,
   "metadata": {},
   "outputs": [
    {
     "data": {
      "image/png": "[encoded data removed]",
      "text/plain": [
       "<Figure size 640x480 with 1 Axes>"
      ]
     },
     "metadata": {},
     "output_type": "display_data"
    }
   ],
   "source": [
    "sizes = []\n",
    "for entry in negative_set_indices_resized:\n",
    "    sizes.append(int(entry[2]) - int(entry[1]))\n",
    "arr = np.array(sizes)\n",
    "\n",
    "plt.hist(arr, bins=40)\n",
    "plt.title('Distribution of LOT Region Lengths')\n",
    "plt.xlabel('BP Length')\n",
    "plt.ylabel('Frequency')\n",
    "plt.show()"
   ]
  },
  {
   "cell_type": "markdown",
   "metadata": {},
   "source": [
    "The following cell displays the dataframes containing start and end poitns for HOT regions, raw LOT region data, and the resized LOT regions."
   ]
  },
  {
   "cell_type": "code",
   "execution_count": 64,
   "metadata": {},
   "outputs": [
    {
     "name": "stdout",
     "output_type": "stream",
     "text": [
      "      Chromosome     Start       End         Name\n",
      "0           chrI     16632     17470     HOT-EX.1\n",
      "1           chrI     26807     27346     HOT-EX.2\n",
      "2           chrI     39631     40124     HOT-EX.3\n",
      "3           chrI     69838     70749     HOT-EX.4\n",
      "4           chrI    108027    108686     HOT-EX.5\n",
      "...          ...       ...       ...          ...\n",
      "20134       chrX  17631562  17632038  HOT-L4.4660\n",
      "20135       chrX  17632976  17633606  HOT-L4.4661\n",
      "20136       chrX  17636181  17636788  HOT-L4.4662\n",
      "20137       chrX  17640647  17641145  HOT-L4.4663\n",
      "20138       chrX  17714252  17714747  HOT-L4.4664\n",
      "\n",
      "[20139 rows x 4 columns]\n",
      "      Chromosome     Start       End\n",
      "0           chrI      4306      5146\n",
      "1           chrI     21308     22181\n",
      "2           chrI     32498     32953\n",
      "3           chrI     66200     66952\n",
      "4           chrI     90414     90774\n",
      "...          ...       ...       ...\n",
      "18787       chrX  17629469  17629907\n",
      "18788       chrX  17632078  17632881\n",
      "18789       chrX  17633636  17634117\n",
      "18790       chrX  17640117  17640588\n",
      "18791       chrX  17658401  17659060\n",
      "\n",
      "[18792 rows x 3 columns]\n"
     ]
    }
   ],
   "source": [
    "# Printing HOT region indices, LOT region indices, and LOT region resized indices\n",
    "df1 = pd.DataFrame(lines, columns = ['Chromosome', 'Start', 'End', 'Name'])\n",
    "print(df1)\n",
    "# df2 = pd.DataFrame(negative_set_indices, columns = ['Chromosome', 'Start', 'End'])\n",
    "# display(df2)\n",
    "df3 = pd.DataFrame(negative_set_indices_resized, columns = ['Chromosome', 'Start', 'End'])\n",
    "print(df3)"
   ]
  },
  {
   "cell_type": "markdown",
   "metadata": {},
   "source": [
    "The following cell converts the start and end points for HOT and LOT regions into their corresponding base pair sequences and writes them into the specified output files."
   ]
  },
  {
   "cell_type": "code",
   "execution_count": 59,
   "metadata": {},
   "outputs": [],
   "source": [
    "\"\"\" \n",
    "change two output file to store HOT and LOT sequences\n",
    "\"\"\"\n",
    "# Building HOT Regions fasta file\n",
    "hot = ''\n",
    "for entry in lines:\n",
    "    sequence = str(chr_dict[entry[0]][int(entry[1]):int(entry[2])].seq)\n",
    "    # Removing any newlines from stored genome entry\n",
    "    sequence_no_newline = sequence.replace('\\n', '')\n",
    "    hot = hot + '>' + entry[3] + '\\n' + sequence_no_newline + '\\n'\n",
    "# Stripping last newline of file\n",
    "hot =  hot.rstrip('\\n') \n",
    "with open(output_hot_worm[0],'w+') as f: ### output file for hot sequences\n",
    "    f.write(hot)\n",
    "    \n",
    "# Building LOT Regions fasta file\n",
    "lot = ''\n",
    "i = 1\n",
    "for entry in negative_set_indices_resized:\n",
    "    sequence = str(chr_dict[entry[0]][int(entry[1]):int(entry[2])].seq)\n",
    "    # Removing any newlines from stored genome entry\n",
    "    sequence_no_newline = sequence.replace('\\n', '')\n",
    "    lot = lot + '>LOT.' + str(i) + '\\n' + sequence_no_newline + '\\n'\n",
    "    i += 1\n",
    "# Stripping last newline of file\n",
    "lot =  lot.rstrip('\\n') \n",
    "with open(output_lot_worm[0],'w+') as f: ### output file lot sequences\n",
    "    f.write(lot)"
   ]
  },
  {
   "cell_type": "code",
   "execution_count": null,
   "metadata": {},
   "outputs": [],
   "source": []
  }
 ],
 "metadata": {
  "colab": {
   "collapsed_sections": [],
   "name": "1A. Distribution of First Digits.ipynb",
   "provenance": []
  },
  "kernelspec": {
   "display_name": "Python 3.9.13 ('base')",
   "language": "python",
   "name": "python3"
  },
  "language_info": {
   "codemirror_mode": {
    "name": "ipython",
    "version": 3
   },
   "file_extension": ".py",
   "mimetype": "text/x-python",
   "name": "python",
   "nbconvert_exporter": "python",
   "pygments_lexer": "ipython3",
   "version": "3.9.13"
  },
  "vscode": {
   "interpreter": {
    "hash": "ec786558109aefb7e7ee5b9551df7a7b67903598e09f9069265e378390dccf65"
   }
  }
 },
 "nbformat": 4,
 "nbformat_minor": 4
}
